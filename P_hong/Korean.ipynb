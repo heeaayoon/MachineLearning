{
 "cells": [
  {
   "cell_type": "markdown",
   "id": "29a1fd56",
   "metadata": {},
   "source": [
    "한국어 BoW 분류 방법 "
   ]
  },
  {
   "cell_type": "code",
   "execution_count": null,
   "id": "3f96efbe",
   "metadata": {},
   "outputs": [
    {
     "name": "stdout",
     "output_type": "stream",
     "text": [
      "Collecting konlpy\n",
      "  Using cached konlpy-0.6.0-py2.py3-none-any.whl.metadata (1.9 kB)\n",
      "Collecting JPype1>=0.7.0 (from konlpy)\n",
      "  Downloading jpype1-1.6.0-cp313-cp313-win_amd64.whl.metadata (5.1 kB)\n",
      "Collecting lxml>=4.1.0 (from konlpy)\n",
      "  Downloading lxml-6.0.1-cp313-cp313-win_amd64.whl.metadata (3.9 kB)\n",
      "Requirement already satisfied: numpy>=1.6 in c:\\users\\user\\appdata\\local\\programs\\python\\python313\\lib\\site-packages (from konlpy) (2.3.2)\n",
      "Requirement already satisfied: packaging in c:\\users\\user\\appdata\\roaming\\python\\python313\\site-packages (from JPype1>=0.7.0->konlpy) (25.0)\n",
      "Using cached konlpy-0.6.0-py2.py3-none-any.whl (19.4 MB)\n",
      "Downloading jpype1-1.6.0-cp313-cp313-win_amd64.whl (355 kB)\n",
      "Downloading lxml-6.0.1-cp313-cp313-win_amd64.whl (4.0 MB)\n",
      "   ---------------------------------------- 0.0/4.0 MB ? eta -:--:--\n",
      "   ---------------------------------------- 4.0/4.0 MB 30.5 MB/s  0:00:00\n",
      "Installing collected packages: lxml, JPype1, konlpy\n",
      "\n",
      "   ---------------------------------------- 0/3 [lxml]\n",
      "   ------------- -------------------------- 1/3 [JPype1]\n",
      "   -------------------------- ------------- 2/3 [konlpy]\n",
      "   -------------------------- ------------- 2/3 [konlpy]\n",
      "   ---------------------------------------- 3/3 [konlpy]\n",
      "\n",
      "Successfully installed JPype1-1.6.0 konlpy-0.6.0 lxml-6.0.1\n"
     ]
    }
   ],
   "source": [
    "import sys\n",
    "!{sys.executable} -m pip install konlpy\n",
    "# 한국어 형태소 분석기 설치"
   ]
  },
  {
   "cell_type": "code",
   "execution_count": 7,
   "id": "2eb93a89",
   "metadata": {},
   "outputs": [
    {
     "name": "stdout",
     "output_type": "stream",
     "text": [
      "['나', '는', '학교', '에', '갑니다']\n"
     ]
    }
   ],
   "source": [
    "# 한국어 형태소 분석기를 이용해서 커스텀 토크나이저 함수 생성\n",
    "from konlpy.tag import Okt\n",
    "\n",
    "okt = Okt()\n",
    "\n",
    "# CountVectorizer에 전달할 한국어 커스텀 토크나이저 함수 정의\n",
    "def korean_tokenizer(text):\n",
    "    # okt.morphs()는 텍스트를 형태소 단위로 나누어 리스트로 반환\n",
    "    return okt.morphs(text)\n",
    "\n",
    "print(korean_tokenizer(\"나는 학교에 갑니다\"))\n"
   ]
  },
  {
   "cell_type": "code",
   "execution_count": 8,
   "id": "c3d4975b",
   "metadata": {},
   "outputs": [
    {
     "name": "stdout",
     "output_type": "stream",
     "text": [
      "한국어 어휘 사전: {'오늘': 9, '날씨': 4, '가': 2, '정말': 13, '좋네요': 14, '.': 0, '영화': 8, '보러': 5, '갈까': 3, '요': 10, '?': 1, '이': 11, '재미없네요': 12, '비추': 6, '합니다': 17, '좋은': 15, '였습니다': 7, '추천': 16}\n",
      "한국어 BoW 행렬:\n",
      " [[1 1 1 1 1 1 0 0 1 1 1 0 0 1 1 0 0 0]\n",
      " [2 0 0 0 0 0 1 0 1 0 0 1 1 1 0 0 0 1]\n",
      " [2 0 0 0 0 0 0 1 1 0 0 0 0 1 0 1 1 1]]\n"
     ]
    },
    {
     "name": "stderr",
     "output_type": "stream",
     "text": [
      "c:\\Users\\user\\AppData\\Local\\Programs\\Python\\Python313\\Lib\\site-packages\\sklearn\\feature_extraction\\text.py:517: UserWarning: The parameter 'token_pattern' will not be used since 'tokenizer' is not None'\n",
      "  warnings.warn(\n"
     ]
    }
   ],
   "source": [
    "# CountVectorizer에 커스텀 토크나이저 적용하기\n",
    "from sklearn.feature_extraction.text import CountVectorizer\n",
    "\n",
    "# 한국어 예시 데이터\n",
    "korean_text_train = [\n",
    "    \"오늘 날씨가 정말 좋네요. 영화 보러 갈까요?\",\n",
    "    \"이 영화 정말 재미없네요. 비추합니다.\",\n",
    "    \"정말 좋은 영화였습니다. 추천합니다.\"\n",
    "]\n",
    "\n",
    "# tokenizer 매개변수에 우리가 만든 함수를 전달!\n",
    "vect = CountVectorizer(tokenizer=korean_tokenizer)\n",
    "vect.fit(korean_text_train)\n",
    "\n",
    "# 어휘 사전 확인\n",
    "print(\"한국어 어휘 사전:\", vect.vocabulary_)\n",
    "\n",
    "# BoW 행렬 변환\n",
    "X_train_korean = vect.transform(korean_text_train)\n",
    "print(\"한국어 BoW 행렬:\\n\", X_train_korean.toarray())"
   ]
  },
  {
   "cell_type": "code",
   "execution_count": 9,
   "id": "342ba466",
   "metadata": {},
   "outputs": [],
   "source": [
    "# 한국어 불용어 처리\n",
    "# 1. 토크나이저 함수 자체에서 불용어를 제거하는 방법\n",
    "def korean_tokenizer_with_stopwords(text):\n",
    "    stop_words = ['는', '가', '이', '을', '를', '은', '.', ',', '?']\n",
    "    tokens = okt.morphs(text)\n",
    "    return [token for token in tokens if token not in stop_words and len(token) > 1] # 한 글자 단어도 추가로 제거\n",
    "\n",
    "# 2. CountVectorizer의 stop_words 매개변수를 사용하는 방법\n",
    "korean_stop_words = ['는', '가', '이', '을', '를', '은', '.', ',', '?']\n",
    "vect = CountVectorizer(tokenizer=korean_tokenizer, stop_words=korean_stop_words)"
   ]
  }
 ],
 "metadata": {
  "kernelspec": {
   "display_name": "Python 3",
   "language": "python",
   "name": "python3"
  },
  "language_info": {
   "codemirror_mode": {
    "name": "ipython",
    "version": 3
   },
   "file_extension": ".py",
   "mimetype": "text/x-python",
   "name": "python",
   "nbconvert_exporter": "python",
   "pygments_lexer": "ipython3",
   "version": "3.13.5"
  }
 },
 "nbformat": 4,
 "nbformat_minor": 5
}
