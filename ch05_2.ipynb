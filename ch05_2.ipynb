{
 "cells": [
  {
   "cell_type": "code",
   "execution_count": 12,
   "id": "3bd92347",
   "metadata": {},
   "outputs": [
    {
     "data": {
      "text/plain": [
       "<Figure size 1000x600 with 0 Axes>"
      ]
     },
     "execution_count": 12,
     "metadata": {},
     "output_type": "execute_result"
    },
    {
     "data": {
      "text/plain": [
       "<Figure size 1000x600 with 0 Axes>"
      ]
     },
     "metadata": {},
     "output_type": "display_data"
    }
   ],
   "source": [
    "import pandas as pd\n",
    "import numpy as np\n",
    "from sklearn.model_selection import train_test_split\n",
    "from sklearn.ensemble import RandomForestClassifier\n",
    "from sklearn.linear_model import LogisticRegression\n",
    "from sklearn.metrics import (\n",
    "    accuracy_score, precision_score, recall_score, f1_score,\n",
    "    confusion_matrix, classification_report, roc_auc_score\n",
    ")\n",
    "import matplotlib.pyplot as plt\n",
    "import seaborn as sns\n",
    "\n",
    "plt.rcParams['font.family'] = 'Malgun Gothic'\n",
    "plt.rcParams['axes.unicode_minus'] = False\n",
    "plt.figure(figsize=(10, 6))"
   ]
  },
  {
   "cell_type": "code",
   "execution_count": 13,
   "id": "c863e4f0",
   "metadata": {},
   "outputs": [],
   "source": [
    "def preprocess(file_path='data/titanic.csv'):\n",
    "    \"\"\"빠른 데이터 전처리\"\"\"\n",
    "    df = pd.read_csv(file_path)\n",
    "    \n",
    "    # 필수 전처리만 수행\n",
    "    df['Sex'] = df['Sex'].map({'male': 0, 'female': 1})\n",
    "    df['Age'] = df['Age'].fillna(df['Age'].median())\n",
    "    df['Embarked'] = df['Embarked'].fillna('S')\n",
    "    df['Embarked'] = df['Embarked'].map({'S': 0, 'C': 1, 'Q': 2})\n",
    "    df['Fare'] = df['Fare'].fillna(df['Fare'].median())\n",
    "    \n",
    "    # 특성 선택\n",
    "    features = ['Pclass', 'Sex', 'Age', 'SibSp', 'Parch', 'Fare', 'Embarked']\n",
    "    X = df[features]\n",
    "    y = df['Survived']\n",
    "    \n",
    "    return X, y"
   ]
  },
  {
   "cell_type": "code",
   "execution_count": 14,
   "id": "92e08805",
   "metadata": {},
   "outputs": [],
   "source": [
    "def evaluate_model(model, X_test, y_test, model_name=\"model\"): #model은 이미 학습된 모델이라고 가정\n",
    "    # 학습된 모델을 기반으로 예측\n",
    "    y_pred = model.predict(X_test)\n",
    "    y_pred_proba = model.predict_proba(X_test)[:,1]\n",
    "\n",
    "    # 기본지표\n",
    "    accuracy = accuracy_score(y_test, y_pred)\n",
    "    precision = precision_score(y_test, y_pred)\n",
    "    recall = recall_score(y_test, y_pred)\n",
    "    f1 = f1_score(y_test, y_pred)\n",
    "    roc_auc = roc_auc_score(y_test, y_pred)\n",
    "\n",
    "    #혼동행렬\n",
    "    cm = confusion_matrix(y_test, y_pred)\n",
    "    tn,fp,fn,tp = cm.ravel()\n",
    "\n",
    "    #결과 측정\n",
    "    print(f\"정확도:{accuracy}\")\n",
    "    print(f\"정밀도:{precision}\")\n",
    "    print(f\"재현율:{recall}\")\n",
    "    print(f\"f1:{f1}\")\n",
    "    print(f\"ROC-AUC:{roc_auc}\")\n",
    "    print(f\"-TN:{tn} -FP:{fp}\")\n",
    "    print(f\"-FN:{fn} -TP:{tp}\")"
   ]
  },
  {
   "cell_type": "code",
   "execution_count": 15,
   "id": "bbd9eefa",
   "metadata": {},
   "outputs": [
    {
     "name": "stdout",
     "output_type": "stream",
     "text": [
      "정확도:0.8156424581005587\n",
      "정밀도:0.78125\n",
      "재현율:0.7246376811594203\n",
      "f1:0.7518796992481203\n",
      "ROC-AUC:0.7986824769433466\n",
      "-TN:96 -FP:14\n",
      "-FN:19 -TP:50\n"
     ]
    }
   ],
   "source": [
    "X,y = preprocess(\"data/titanic.csv\")\n",
    "X_train, X_test, y_train, y_test = train_test_split(X,y,test_size=0.2, random_state=42, stratify=y)\n",
    "# stratify : 원본 데이터셋의 클래스(label) 비율을 훈련(train) 데이터셋과 테스트(test) 데이터셋에서도 동일하게 유지시켜주는 기능\n",
    "\n",
    "rf = RandomForestClassifier(n_estimators=100, random_state=42)\n",
    "rf.fit(X_train, y_train)\n",
    "evaluate_model(rf, X_test, y_test, \"RandomForest\")"
   ]
  },
  {
   "cell_type": "code",
   "execution_count": 16,
   "id": "aeca171b",
   "metadata": {},
   "outputs": [],
   "source": [
    "def plot_confusion_matrix(cm, model_name):\n",
    "    \"\"\"혼동 행렬 시각화\"\"\"\n",
    "    plt.figure(figsize=(8, 6))\n",
    "    sns.heatmap(cm, annot=True, fmt='d', cmap='Blues', \n",
    "                xticklabels=['사망', '생존'], \n",
    "                yticklabels=['사망', '생존'],\n",
    "                cbar_kws={'label': '예측 수'})\n",
    "    plt.title(f'{model_name} - 혼동 행렬')\n",
    "    plt.xlabel('예측')\n",
    "    plt.ylabel('실제')\n",
    "    plt.show()"
   ]
  },
  {
   "cell_type": "code",
   "execution_count": 17,
   "id": "70ff9d20",
   "metadata": {},
   "outputs": [],
   "source": [
    "def plot_metrics_comparison(results_dict):\n",
    "    \"\"\"여러 모델의 지표 비교\"\"\"\n",
    "    metrics = ['accuracy', 'precision', 'recall', 'f1', 'roc_auc']\n",
    "    models = list(results_dict.keys())\n",
    "    \n",
    "    fig, ax = plt.subplots(figsize=(12, 6))\n",
    "    \n",
    "    x = np.arange(len(metrics))\n",
    "    width = 0.35\n",
    "    \n",
    "    for i, model in enumerate(models):\n",
    "        values = [results_dict[model][metric] for metric in metrics]\n",
    "        ax.bar(x + i*width, values, width, label=model, alpha=0.8)\n",
    "    \n",
    "    ax.set_xlabel('평가 지표')\n",
    "    ax.set_ylabel('점수')\n",
    "    ax.set_title('모델별 성능 비교')\n",
    "    ax.set_xticks(x + width/2)\n",
    "    ax.set_xticklabels(['정확도', '정밀도', '재현율', 'F1', 'ROC-AUC'])\n",
    "    ax.legend()\n",
    "    ax.set_ylim(0, 1)\n",
    "    \n",
    "    # 값 표시\n",
    "    for i, model in enumerate(models):\n",
    "        values = [results_dict[model][metric] for metric in metrics]\n",
    "        for j, v in enumerate(values):\n",
    "            ax.text(j + i*width, v + 0.01, f'{v:.3f}', \n",
    "                   ha='center', va='bottom', fontsize=9)\n",
    "    \n",
    "    plt.tight_layout()\n",
    "    plt.show()"
   ]
  }
 ],
 "metadata": {
  "kernelspec": {
   "display_name": "Python 3",
   "language": "python",
   "name": "python3"
  },
  "language_info": {
   "codemirror_mode": {
    "name": "ipython",
    "version": 3
   },
   "file_extension": ".py",
   "mimetype": "text/x-python",
   "name": "python",
   "nbconvert_exporter": "python",
   "pygments_lexer": "ipython3",
   "version": "3.13.5"
  }
 },
 "nbformat": 4,
 "nbformat_minor": 5
}
