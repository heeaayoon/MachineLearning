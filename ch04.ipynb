{
 "cells": [
  {
   "cell_type": "code",
   "execution_count": 1,
   "id": "b0e7ebec",
   "metadata": {},
   "outputs": [],
   "source": [
    "import pandas as pd"
   ]
  },
  {
   "cell_type": "code",
   "execution_count": 4,
   "id": "c6a32161",
   "metadata": {},
   "outputs": [],
   "source": [
    "demo_df = pd.DataFrame({\"숫자특성\":[0,1,2,1],\n",
    "                        \"범주형\":[\"a\", \"b\", \"c\", \"a\"]})"
   ]
  },
  {
   "cell_type": "markdown",
   "id": "c9e1b606",
   "metadata": {},
   "source": [
    "범주형 데이터는 선형모델에 사용불가\n",
    "-> 원핫인코딩 : 범주의 갯수만큼 dummy variable을 만들어 0 또는 1을 각 범주마다 할당해 새로운 특성으로 바꿈 \n",
    "-> 차수가 늘어나더라도 범주마다 0,1로 할당하는 게 더 중요함\n",
    "\n",
    "판다스로 하는 원핫인코딩은 데이터 분석에서만 사용함 \n",
    "ski-learn 으로 하는 원핫인코딩은 모델을 만들때 사용함\n",
    "\n",
    "**결정트리(XGboost)를 사용하려면 범주형 전처리가 필요없음"
   ]
  },
  {
   "cell_type": "code",
   "execution_count": null,
   "id": "034afb25",
   "metadata": {},
   "outputs": [
    {
     "data": {
      "text/html": [
       "<div>\n",
       "<style scoped>\n",
       "    .dataframe tbody tr th:only-of-type {\n",
       "        vertical-align: middle;\n",
       "    }\n",
       "\n",
       "    .dataframe tbody tr th {\n",
       "        vertical-align: top;\n",
       "    }\n",
       "\n",
       "    .dataframe thead th {\n",
       "        text-align: right;\n",
       "    }\n",
       "</style>\n",
       "<table border=\"1\" class=\"dataframe\">\n",
       "  <thead>\n",
       "    <tr style=\"text-align: right;\">\n",
       "      <th></th>\n",
       "      <th>숫자특성</th>\n",
       "      <th>범주형_a</th>\n",
       "      <th>범주형_b</th>\n",
       "      <th>범주형_c</th>\n",
       "    </tr>\n",
       "  </thead>\n",
       "  <tbody>\n",
       "    <tr>\n",
       "      <th>0</th>\n",
       "      <td>0</td>\n",
       "      <td>True</td>\n",
       "      <td>False</td>\n",
       "      <td>False</td>\n",
       "    </tr>\n",
       "    <tr>\n",
       "      <th>1</th>\n",
       "      <td>1</td>\n",
       "      <td>False</td>\n",
       "      <td>True</td>\n",
       "      <td>False</td>\n",
       "    </tr>\n",
       "    <tr>\n",
       "      <th>2</th>\n",
       "      <td>2</td>\n",
       "      <td>False</td>\n",
       "      <td>False</td>\n",
       "      <td>True</td>\n",
       "    </tr>\n",
       "    <tr>\n",
       "      <th>3</th>\n",
       "      <td>1</td>\n",
       "      <td>True</td>\n",
       "      <td>False</td>\n",
       "      <td>False</td>\n",
       "    </tr>\n",
       "  </tbody>\n",
       "</table>\n",
       "</div>"
      ],
      "text/plain": [
       "   숫자특성  범주형_a  범주형_b  범주형_c\n",
       "0     0   True  False  False\n",
       "1     1  False   True  False\n",
       "2     2  False  False   True\n",
       "3     1   True  False  False"
      ]
     },
     "execution_count": 7,
     "metadata": {},
     "output_type": "execute_result"
    }
   ],
   "source": [
    "pd.get_dummies(demo_df)"
   ]
  },
  {
   "cell_type": "code",
   "execution_count": 1,
   "id": "064aba87",
   "metadata": {},
   "outputs": [],
   "source": [
    "from preamble import *"
   ]
  },
  {
   "cell_type": "markdown",
   "id": "2d7b10da",
   "metadata": {},
   "source": [
    "df = pd.read_csv(\"data.housing.csv\")\n",
    "df.isnull(sum)"
   ]
  },
  {
   "cell_type": "code",
   "execution_count": 17,
   "id": "3a0476be",
   "metadata": {},
   "outputs": [
    {
     "name": "stdout",
     "output_type": "stream",
     "text": [
      "<class 'pandas.core.frame.DataFrame'>\n",
      "RangeIndex: 20640 entries, 0 to 20639\n",
      "Data columns (total 10 columns):\n",
      " #   Column              Non-Null Count  Dtype  \n",
      "---  ------              --------------  -----  \n",
      " 0   longitude           20640 non-null  float64\n",
      " 1   latitude            20640 non-null  float64\n",
      " 2   housing_median_age  20640 non-null  float64\n",
      " 3   total_rooms         20640 non-null  float64\n",
      " 4   total_bedrooms      20433 non-null  float64\n",
      " 5   population          20640 non-null  float64\n",
      " 6   households          20640 non-null  float64\n",
      " 7   median_income       20640 non-null  float64\n",
      " 8   median_house_value  20640 non-null  float64\n",
      " 9   ocean_proximity     20640 non-null  object \n",
      "dtypes: float64(9), object(1)\n",
      "memory usage: 1.6+ MB\n"
     ]
    }
   ],
   "source": [
    "df = pd.read_csv(\"data/housing.csv\")\n",
    "df[\"ocean_proximity\"].value_counts() # value_counts() : 범주형 데이터의 범주와 범주에 해당하는 데이터의 갯수를 세주는 함수\n",
    "#df[\"ocean_proximity\"].unique() # unique() : 고유값들이 어떠한 종류들이 있는지 알고 싶을때 사용하는 함수\n",
    "df.info()"
   ]
  },
  {
   "cell_type": "code",
   "execution_count": 19,
   "id": "66a9fc3e",
   "metadata": {},
   "outputs": [
    {
     "name": "stdout",
     "output_type": "stream",
     "text": [
      "<class 'pandas.core.frame.DataFrame'>\n",
      "Index: 20433 entries, 0 to 20639\n",
      "Data columns (total 10 columns):\n",
      " #   Column              Non-Null Count  Dtype  \n",
      "---  ------              --------------  -----  \n",
      " 0   longitude           20433 non-null  float64\n",
      " 1   latitude            20433 non-null  float64\n",
      " 2   housing_median_age  20433 non-null  float64\n",
      " 3   total_rooms         20433 non-null  float64\n",
      " 4   total_bedrooms      20433 non-null  float64\n",
      " 5   population          20433 non-null  float64\n",
      " 6   households          20433 non-null  float64\n",
      " 7   median_income       20433 non-null  float64\n",
      " 8   median_house_value  20433 non-null  float64\n",
      " 9   ocean_proximity     20433 non-null  object \n",
      "dtypes: float64(9), object(1)\n",
      "memory usage: 1.7+ MB\n"
     ]
    }
   ],
   "source": [
    "df = df.dropna() # 일단은 결측지 제거\n",
    "df.info()"
   ]
  },
  {
   "cell_type": "markdown",
   "id": "172c61d5",
   "metadata": {},
   "source": [
    "데이터 전처리"
   ]
  },
  {
   "cell_type": "code",
   "execution_count": null,
   "id": "3fad9e12",
   "metadata": {},
   "outputs": [],
   "source": [
    "####데이터 전처리\n",
    "## 1. x(독립변인)와 y 정하기 \n",
    "X = df.drop(\"median_house_value\", axis=1)\n",
    "y = df[\"median_house_value\"]\n",
    "\n",
    "## 2. 수치형과 범주형으로 데이터를 나누기\n",
    "#num_feature = X.drop(\"ocean_proximity\")\n",
    "#cate_feature = X[\"ocean_proximity\"]\n",
    "\n",
    "## 2-1. 수치형과 범주형으로 데이터를 나누기(리스트로 만들어라**=>타입으로 모을 수 있음!!!)\n",
    "num_feature = X.select_dtypes(include=[\"float64\", \"int64\", \"float32\", \"int32\"]).columns.to_list()\n",
    "cate_feature = [\"ocean_proximity\"]"
   ]
  },
  {
   "cell_type": "code",
   "execution_count": 24,
   "id": "506c9a38",
   "metadata": {},
   "outputs": [],
   "source": [
    "## 3. 데이터 분리 \n",
    "from sklearn.model_selection import train_test_split\n",
    "X = df.drop(\"median_house_value\", axis=1)\n",
    "y = df[\"median_house_value\"]\n",
    "X_train, X_test, y_train, y_test = train_test_split(X,y,test_size=0.2, random_state=42)"
   ]
  },
  {
   "cell_type": "code",
   "execution_count": 27,
   "id": "256af237",
   "metadata": {},
   "outputs": [],
   "source": [
    "## X_train 중에서 수치형/범주형 분리하기\n",
    "X_train_num = X_train[num_feature]\n",
    "X_train_cate = X_train[cate_feature]\n",
    "X_test_num = X_test[num_feature]\n",
    "X_test_cate = X_test[cate_feature]"
   ]
  },
  {
   "cell_type": "code",
   "execution_count": 28,
   "id": "eddc4864",
   "metadata": {},
   "outputs": [],
   "source": [
    "## 스케일러 적용\n",
    "from sklearn.preprocessing import StandardScaler\n",
    "scaler = StandardScaler()\n",
    "X_train_num_scaler = scaler.fit_transform(X_train_num)\n",
    "X_test_num_scaler = scaler.transform(X_test_num)"
   ]
  },
  {
   "cell_type": "code",
   "execution_count": null,
   "id": "84271f59",
   "metadata": {},
   "outputs": [],
   "source": [
    "## 원핫인코딩\n",
    "from sklearn.preprocessing import OneHotEncoder\n",
    "\n",
    "encoder = OneHotEncoder()\n",
    "X_train_cate_encoder = encoder.fit_transform(X_train_cate).toarray() #numpy의 array\n",
    "X_test_cate_encoder = encoder.transform(X_test_cate).toarray() #numpy의 array"
   ]
  },
  {
   "cell_type": "code",
   "execution_count": 37,
   "id": "7cae3794",
   "metadata": {},
   "outputs": [
    {
     "data": {
      "text/plain": [
       "(array([[1., 0., 0., 0., 0.],\n",
       "        [0., 1., 0., 0., 0.],\n",
       "        [0., 1., 0., 0., 0.],\n",
       "        ...,\n",
       "        [1., 0., 0., 0., 0.],\n",
       "        [0., 0., 0., 1., 0.],\n",
       "        [0., 0., 0., 1., 0.]], shape=(16346, 5)),\n",
       " array([[0., 0., 0., 0., 1.],\n",
       "        [0., 1., 0., 0., 0.],\n",
       "        [1., 0., 0., 0., 0.],\n",
       "        ...,\n",
       "        [0., 1., 0., 0., 0.],\n",
       "        [0., 1., 0., 0., 0.],\n",
       "        [0., 0., 0., 0., 1.]], shape=(4087, 5)),\n",
       " array([[-1.107,  0.786, -1.162, ...,  1.131,  1.041,  0.438],\n",
       "        [-0.025,  0.468,  0.349, ..., -0.709, -0.856, -0.242],\n",
       "        [ 0.758, -0.712, -0.287, ...,  0.378,  0.692, -0.109],\n",
       "        ...,\n",
       "        [ 0.579, -0.763,  1.064, ..., -0.415, -0.359, -0.407],\n",
       "        [-1.226,  0.903, -1.321, ...,  1.785,  1.48 ,  0.747],\n",
       "        [-1.421,  0.978,  1.859, ...,  0.752,  0.395,  0.012]],\n",
       "       shape=(16346, 8)),\n",
       " array([[ 1.167, -1.334, -0.685, ..., -0.793, -0.645, -0.362],\n",
       "        [-0.852,  1.109, -2.116, ...,  1.688,  1.215,  0.325],\n",
       "        [ 0.718, -0.805,  0.19 , ...,  0.79 ,  0.803, -0.341],\n",
       "        ...,\n",
       "        [ 0.274, -0.15 , -1.321, ..., -0.112,  0.067, -0.692],\n",
       "        [ 1.077, -0.731, -0.049, ..., -0.096, -0.142, -0.204],\n",
       "        [ 1.237, -1.437, -1.162, ...,  1.985,  1.84 , -0.814]],\n",
       "       shape=(4087, 8)))"
      ]
     },
     "execution_count": 37,
     "metadata": {},
     "output_type": "execute_result"
    }
   ],
   "source": [
    "X_train_cate_encoder, X_test_cate_encoder, X_train_num_scaler, X_test_num_scaler"
   ]
  },
  {
   "cell_type": "code",
   "execution_count": 40,
   "id": "811899fa",
   "metadata": {},
   "outputs": [],
   "source": [
    "## 스케일러의 결과와 원핫인코딩의 결과를 합치기\n",
    "X_train_processed = np.hstack([X_train_num_scaler, X_train_cate_encoder])\n",
    "X_test_processed = np.hstack([X_test_num_scaler, X_test_cate_encoder])"
   ]
  },
  {
   "cell_type": "markdown",
   "id": "dadba814",
   "metadata": {},
   "source": [
    "모델링"
   ]
  },
  {
   "cell_type": "code",
   "execution_count": null,
   "id": "f03e2d14",
   "metadata": {},
   "outputs": [],
   "source": [
    "#### 모델링\n",
    "from sklearn.metrics import r2_score, mean_squared_error\n",
    "\n",
    "def evaluate_model(name, y_true, y_pred):\n",
    "    r2 = r2_score(y_true, y_pred)\n",
    "    mse = mean_squared_error(y_true, y_pred)\n",
    "    rmse = np.sqrt(mse)\n",
    "    print(f\"{name}\")\n",
    "    print(f\" -- r2 : {r2:.2f}\") # 1에 가까울수록 좋음\n",
    "    print(f\" -- RMSE : {rmse:.2f}\") # 오차: XX $ , 낮을수록 좋음\n",
    "    return {\"model\":name, \"r2\":r2, \"rmse\":rmse}"
   ]
  },
  {
   "cell_type": "code",
   "execution_count": null,
   "id": "adb4fbd2",
   "metadata": {},
   "outputs": [
    {
     "name": "stdout",
     "output_type": "stream",
     "text": [
      "Linear Regression\n",
      " -- r2 : 0.65\n",
      " -- RMSE : 69297.72\n"
     ]
    },
    {
     "data": {
      "text/plain": [
       "{'model': 'Linear Regression',\n",
       " 'r2': 0.6488402154431994,\n",
       " 'rmse': np.float64(69297.7166911303)}"
      ]
     },
     "execution_count": 42,
     "metadata": {},
     "output_type": "execute_result"
    }
   ],
   "source": [
    "## Linear 모델\n",
    "from sklearn.linear_model import LinearRegression\n",
    "\n",
    "lr = LinearRegression()\n",
    "lr.fit(X_train_processed, y_train)\n",
    "lr_ypred = lr.predict(X_test_processed)\n",
    "\n",
    "result_lr = evaluate_model(\"Linear Regression\", y_test, lr_ypred)  \n",
    "result_lr # -- r2 : 0.65\n",
    "          # -- RMSE : 69297.72 $"
   ]
  },
  {
   "cell_type": "code",
   "execution_count": 46,
   "id": "57b4bc18",
   "metadata": {},
   "outputs": [],
   "source": [
    "## 다항식 Polynomial # y = b+ax+ax^2+ax^3...\n",
    "### 범주형은 제외해야함 -> 수치형만 가능!!\n",
    "from sklearn.preprocessing import PolynomialFeatures\n",
    "poly = PolynomialFeatures(degree=2, include_bias=False, interaction_only=True)  # include_bias=False : y = b+ax+ax^2+ax^3...에서 b를 제외\n",
    "                                                                                # interaction_only=True :               \n",
    "X_train_num_poly = poly.fit_transform(X_train_num_scaler) \n",
    "X_test_num_poly = poly.transform(X_test_num_scaler)"
   ]
  },
  {
   "cell_type": "code",
   "execution_count": 48,
   "id": "c76dd31d",
   "metadata": {},
   "outputs": [],
   "source": [
    "## poly 결과와 원핫인코딩의 결과를 합치기\n",
    "X_train_poly_processed = np.hstack([X_train_num_poly, X_train_cate_encoder])\n",
    "X_test_poly_processed = np.hstack([X_test_num_poly, X_test_cate_encoder])"
   ]
  },
  {
   "cell_type": "code",
   "execution_count": null,
   "id": "a404c4e3",
   "metadata": {},
   "outputs": [
    {
     "name": "stdout",
     "output_type": "stream",
     "text": [
      "Linear Regression (poly)\n",
      " -- r2 : 0.69\n",
      " -- RMSE : 65124.70\n"
     ]
    },
    {
     "data": {
      "text/plain": [
       "{'model': 'Linear Regression (poly)',\n",
       " 'r2': 0.6898595246215415,\n",
       " 'rmse': np.float64(65124.7039906632)}"
      ]
     },
     "execution_count": 49,
     "metadata": {},
     "output_type": "execute_result"
    }
   ],
   "source": [
    "lr.fit(X_train_poly_processed, y_train)\n",
    "lr_ypred = lr.predict(X_test_poly_processed)\n",
    "\n",
    "result_lr = evaluate_model(\"Linear Regression (poly)\", y_test, lr_ypred)  \n",
    "result_lr # -- r2 : 0.69\n",
    "          # -- RMSE : 65124.70 $"
   ]
  },
  {
   "cell_type": "code",
   "execution_count": null,
   "id": "058345e1",
   "metadata": {},
   "outputs": [
    {
     "name": "stdout",
     "output_type": "stream",
     "text": [
      "Decision Tree Regressor\n",
      " -- r2 : 0.66\n",
      " -- RMSE : 67958.99\n"
     ]
    },
    {
     "data": {
      "text/plain": [
       "{'model': 'Decision Tree Regressor',\n",
       " 'r2': 0.662276907502265,\n",
       " 'rmse': np.float64(67958.9901744425)}"
      ]
     },
     "execution_count": 50,
     "metadata": {},
     "output_type": "execute_result"
    }
   ],
   "source": [
    "from sklearn.tree import DecisionTreeRegressor\n",
    "dt = DecisionTreeRegressor()\n",
    "dt.fit(X_train_processed, y_train)\n",
    "dt_ypred = dt.predict(X_test_processed)\n",
    "result_dt = evaluate_model(\"Decision Tree Regressor\", y_test, dt_ypred)\n",
    "result_dt # -- r2 : 0.66\n",
    "          # -- RMSE : 67958.99 $"
   ]
  },
  {
   "cell_type": "code",
   "execution_count": 56,
   "id": "5f896b1e",
   "metadata": {},
   "outputs": [
    {
     "data": {
      "text/plain": [
       "['longitude',\n",
       " 'latitude',\n",
       " 'housing_median_age',\n",
       " 'total_rooms',\n",
       " 'total_bedrooms',\n",
       " 'population',\n",
       " 'households',\n",
       " 'median_income',\n",
       " 'ocean_proximity_<1H OCEAN',\n",
       " 'ocean_proximity_INLAND',\n",
       " 'ocean_proximity_ISLAND',\n",
       " 'ocean_proximity_NEAR BAY',\n",
       " 'ocean_proximity_NEAR OCEAN']"
      ]
     },
     "execution_count": 56,
     "metadata": {},
     "output_type": "execute_result"
    }
   ],
   "source": [
    "num_names = num_feature\n",
    "cate_names = list(encoder.get_feature_names_out(cate_feature))\n",
    "all_names = num_names + cate_names\n",
    "all_names"
   ]
  },
  {
   "cell_type": "code",
   "execution_count": 59,
   "id": "8f3b90d4",
   "metadata": {},
   "outputs": [
    {
     "data": {
      "text/html": [
       "<div>\n",
       "<style scoped>\n",
       "    .dataframe tbody tr th:only-of-type {\n",
       "        vertical-align: middle;\n",
       "    }\n",
       "\n",
       "    .dataframe tbody tr th {\n",
       "        vertical-align: top;\n",
       "    }\n",
       "\n",
       "    .dataframe thead th {\n",
       "        text-align: right;\n",
       "    }\n",
       "</style>\n",
       "<table border=\"1\" class=\"dataframe\">\n",
       "  <thead>\n",
       "    <tr style=\"text-align: right;\">\n",
       "      <th></th>\n",
       "      <th>features</th>\n",
       "      <th>importances</th>\n",
       "    </tr>\n",
       "  </thead>\n",
       "  <tbody>\n",
       "    <tr>\n",
       "      <th>7</th>\n",
       "      <td>median_income</td>\n",
       "      <td>4.80e-01</td>\n",
       "    </tr>\n",
       "    <tr>\n",
       "      <th>9</th>\n",
       "      <td>ocean_proximity_INLAND</td>\n",
       "      <td>1.42e-01</td>\n",
       "    </tr>\n",
       "    <tr>\n",
       "      <th>1</th>\n",
       "      <td>latitude</td>\n",
       "      <td>1.19e-01</td>\n",
       "    </tr>\n",
       "    <tr>\n",
       "      <th>0</th>\n",
       "      <td>longitude</td>\n",
       "      <td>1.15e-01</td>\n",
       "    </tr>\n",
       "    <tr>\n",
       "      <th>2</th>\n",
       "      <td>housing_median_age</td>\n",
       "      <td>4.62e-02</td>\n",
       "    </tr>\n",
       "    <tr>\n",
       "      <th>5</th>\n",
       "      <td>population</td>\n",
       "      <td>2.61e-02</td>\n",
       "    </tr>\n",
       "    <tr>\n",
       "      <th>3</th>\n",
       "      <td>total_rooms</td>\n",
       "      <td>2.17e-02</td>\n",
       "    </tr>\n",
       "    <tr>\n",
       "      <th>6</th>\n",
       "      <td>households</td>\n",
       "      <td>1.99e-02</td>\n",
       "    </tr>\n",
       "    <tr>\n",
       "      <th>4</th>\n",
       "      <td>total_bedrooms</td>\n",
       "      <td>1.88e-02</td>\n",
       "    </tr>\n",
       "    <tr>\n",
       "      <th>12</th>\n",
       "      <td>ocean_proximity_NEAR OCEAN</td>\n",
       "      <td>8.99e-03</td>\n",
       "    </tr>\n",
       "    <tr>\n",
       "      <th>10</th>\n",
       "      <td>ocean_proximity_ISLAND</td>\n",
       "      <td>9.80e-04</td>\n",
       "    </tr>\n",
       "    <tr>\n",
       "      <th>11</th>\n",
       "      <td>ocean_proximity_NEAR BAY</td>\n",
       "      <td>8.67e-04</td>\n",
       "    </tr>\n",
       "    <tr>\n",
       "      <th>8</th>\n",
       "      <td>ocean_proximity_&lt;1H OCEAN</td>\n",
       "      <td>2.98e-04</td>\n",
       "    </tr>\n",
       "  </tbody>\n",
       "</table>\n",
       "</div>"
      ],
      "text/plain": [
       "                      features  importances\n",
       "7                median_income     4.80e-01\n",
       "9       ocean_proximity_INLAND     1.42e-01\n",
       "1                     latitude     1.19e-01\n",
       "0                    longitude     1.15e-01\n",
       "2           housing_median_age     4.62e-02\n",
       "5                   population     2.61e-02\n",
       "3                  total_rooms     2.17e-02\n",
       "6                   households     1.99e-02\n",
       "4               total_bedrooms     1.88e-02\n",
       "12  ocean_proximity_NEAR OCEAN     8.99e-03\n",
       "10      ocean_proximity_ISLAND     9.80e-04\n",
       "11    ocean_proximity_NEAR BAY     8.67e-04\n",
       "8    ocean_proximity_<1H OCEAN     2.98e-04"
      ]
     },
     "execution_count": 59,
     "metadata": {},
     "output_type": "execute_result"
    }
   ],
   "source": [
    "importances = dt.feature_importances_\n",
    "fi = pd.DataFrame({\n",
    "    \"features\":all_names,\n",
    "    \"importances\":importances}).sort_values(\"importances\", ascending=False)\n",
    "fi"
   ]
  },
  {
   "cell_type": "code",
   "execution_count": null,
   "id": "4ac48561",
   "metadata": {},
   "outputs": [
    {
     "name": "stdout",
     "output_type": "stream",
     "text": [
      "Random Forest Regressor\n",
      " -- r2 : 0.83\n",
      " -- RMSE : 48815.92\n"
     ]
    },
    {
     "data": {
      "text/plain": [
       "{'model': 'Random Forest Regressor',\n",
       " 'r2': 0.8257431152513077,\n",
       " 'rmse': np.float64(48815.92365357865)}"
      ]
     },
     "execution_count": 62,
     "metadata": {},
     "output_type": "execute_result"
    }
   ],
   "source": [
    "from sklearn.ensemble import RandomForestRegressor\n",
    "rf = RandomForestRegressor()\n",
    "rf.fit(X_train_processed, y_train)\n",
    "rf_ypred = rf.predict(X_test_processed)\n",
    "result_rf = evaluate_model(\"Random Forest Regressor\", y_test, rf_ypred)\n",
    "result_rf # -- r2 : 0.83\n",
    "          # -- RMSE : 48815.92 $"
   ]
  },
  {
   "cell_type": "code",
   "execution_count": 63,
   "id": "c601e99c",
   "metadata": {},
   "outputs": [
    {
     "data": {
      "text/html": [
       "<div>\n",
       "<style scoped>\n",
       "    .dataframe tbody tr th:only-of-type {\n",
       "        vertical-align: middle;\n",
       "    }\n",
       "\n",
       "    .dataframe tbody tr th {\n",
       "        vertical-align: top;\n",
       "    }\n",
       "\n",
       "    .dataframe thead th {\n",
       "        text-align: right;\n",
       "    }\n",
       "</style>\n",
       "<table border=\"1\" class=\"dataframe\">\n",
       "  <thead>\n",
       "    <tr style=\"text-align: right;\">\n",
       "      <th></th>\n",
       "      <th>features</th>\n",
       "      <th>importances</th>\n",
       "    </tr>\n",
       "  </thead>\n",
       "  <tbody>\n",
       "    <tr>\n",
       "      <th>7</th>\n",
       "      <td>median_income</td>\n",
       "      <td>4.86e-01</td>\n",
       "    </tr>\n",
       "    <tr>\n",
       "      <th>9</th>\n",
       "      <td>ocean_proximity_INLAND</td>\n",
       "      <td>1.42e-01</td>\n",
       "    </tr>\n",
       "    <tr>\n",
       "      <th>0</th>\n",
       "      <td>longitude</td>\n",
       "      <td>1.10e-01</td>\n",
       "    </tr>\n",
       "    <tr>\n",
       "      <th>1</th>\n",
       "      <td>latitude</td>\n",
       "      <td>1.04e-01</td>\n",
       "    </tr>\n",
       "    <tr>\n",
       "      <th>2</th>\n",
       "      <td>housing_median_age</td>\n",
       "      <td>5.10e-02</td>\n",
       "    </tr>\n",
       "    <tr>\n",
       "      <th>5</th>\n",
       "      <td>population</td>\n",
       "      <td>3.20e-02</td>\n",
       "    </tr>\n",
       "    <tr>\n",
       "      <th>3</th>\n",
       "      <td>total_rooms</td>\n",
       "      <td>2.37e-02</td>\n",
       "    </tr>\n",
       "    <tr>\n",
       "      <th>4</th>\n",
       "      <td>total_bedrooms</td>\n",
       "      <td>2.12e-02</td>\n",
       "    </tr>\n",
       "    <tr>\n",
       "      <th>6</th>\n",
       "      <td>households</td>\n",
       "      <td>1.83e-02</td>\n",
       "    </tr>\n",
       "    <tr>\n",
       "      <th>12</th>\n",
       "      <td>ocean_proximity_NEAR OCEAN</td>\n",
       "      <td>6.18e-03</td>\n",
       "    </tr>\n",
       "    <tr>\n",
       "      <th>8</th>\n",
       "      <td>ocean_proximity_&lt;1H OCEAN</td>\n",
       "      <td>3.41e-03</td>\n",
       "    </tr>\n",
       "    <tr>\n",
       "      <th>11</th>\n",
       "      <td>ocean_proximity_NEAR BAY</td>\n",
       "      <td>9.97e-04</td>\n",
       "    </tr>\n",
       "    <tr>\n",
       "      <th>10</th>\n",
       "      <td>ocean_proximity_ISLAND</td>\n",
       "      <td>3.50e-04</td>\n",
       "    </tr>\n",
       "  </tbody>\n",
       "</table>\n",
       "</div>"
      ],
      "text/plain": [
       "                      features  importances\n",
       "7                median_income     4.86e-01\n",
       "9       ocean_proximity_INLAND     1.42e-01\n",
       "0                    longitude     1.10e-01\n",
       "1                     latitude     1.04e-01\n",
       "2           housing_median_age     5.10e-02\n",
       "5                   population     3.20e-02\n",
       "3                  total_rooms     2.37e-02\n",
       "4               total_bedrooms     2.12e-02\n",
       "6                   households     1.83e-02\n",
       "12  ocean_proximity_NEAR OCEAN     6.18e-03\n",
       "8    ocean_proximity_<1H OCEAN     3.41e-03\n",
       "11    ocean_proximity_NEAR BAY     9.97e-04\n",
       "10      ocean_proximity_ISLAND     3.50e-04"
      ]
     },
     "execution_count": 63,
     "metadata": {},
     "output_type": "execute_result"
    }
   ],
   "source": [
    "importances = rf.feature_importances_\n",
    "fi = pd.DataFrame({\n",
    "    \"features\":all_names,\n",
    "    \"importances\":importances}).sort_values(\"importances\", ascending=False)\n",
    "fi"
   ]
  }
 ],
 "metadata": {
  "kernelspec": {
   "display_name": "Python 3",
   "language": "python",
   "name": "python3"
  },
  "language_info": {
   "codemirror_mode": {
    "name": "ipython",
    "version": 3
   },
   "file_extension": ".py",
   "mimetype": "text/x-python",
   "name": "python",
   "nbconvert_exporter": "python",
   "pygments_lexer": "ipython3",
   "version": "3.13.5"
  }
 },
 "nbformat": 4,
 "nbformat_minor": 5
}
